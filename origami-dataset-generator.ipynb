{
 "cells": [
  {
   "cell_type": "markdown",
   "id": "ce15f175",
   "metadata": {},
   "source": [
    "# Origami Sales Dataset"
   ]
  },
  {
   "cell_type": "code",
   "execution_count": 1,
   "id": "5af2a22e",
   "metadata": {},
   "outputs": [],
   "source": [
    "# import libraries\n",
    "import pandas as pd\n",
    "import numpy as np\n",
    "import datetime\n"
   ]
  },
  {
   "cell_type": "code",
   "execution_count": 2,
   "id": "53728455",
   "metadata": {},
   "outputs": [],
   "source": [
    "# Define the dataset parameters\n",
    "dates = pd.date_range(start=\"2015-01-01\", end=\"2019-12-31\")\n",
    "countries = ['Canada', 'United Kingdom', 'United States', 'France', 'Germany', 'Italy', 'Japan', 'China', 'India']\n",
    "cost_data = [['Origami Crane', 7.0, 4.0], \n",
    "             ['Origami Flower', 9.0, 5.5], \n",
    "             ['Origami Boat', 6.0, 4.0],\n",
    "             ['Origami Dragon', 10.25, 9.75],\n",
    "             ['Origami Penguin', 8.5, 3.5]]\n",
    "products = [item[0] for item in cost_data]\n",
    "df_columns = ['Date', 'Country', 'Product']\n",
    "cost_columns = ['Product', 'Revenue per unit', 'Cost per unit']\n",
    "np.random.seed(42)\n",
    "\n",
    "# Construct the dataframe\n",
    "permutations = [[i, j, k] for i in dates for j in countries for k in products]\n",
    "df = pd.DataFrame(data=permutations, columns=df_columns)\n",
    "units_sold = np.random.lognormal(1, 2, len(df))\n",
    "df['Units sold'] = [round(x) for x in units_sold]\n",
    "cost_df = pd.DataFrame(data=cost_data, columns=cost_columns)\n",
    "df = pd.merge(df, cost_df)\n",
    "df['Profit'] = (df['Revenue per unit'] - df['Cost per unit']) * df['Units sold']\n",
    "df['Day'] = df.Date.dt.day\n",
    "df['Month'] = df.Date.dt.month\n",
    "df['Month name'] = df.Date.dt.month_name()\n",
    "df['Year'] = df.Date.dt.year"
   ]
  },
  {
   "cell_type": "code",
   "execution_count": 3,
   "id": "3215daf1",
   "metadata": {},
   "outputs": [],
   "source": [
    "# output the dataset as a csv\n",
    "df.to_csv('origami-dataset.csv', index=False)"
   ]
  }
 ],
 "metadata": {
  "kernelspec": {
   "display_name": "Python 3",
   "language": "python",
   "name": "python3"
  },
  "language_info": {
   "codemirror_mode": {
    "name": "ipython",
    "version": 3
   },
   "file_extension": ".py",
   "mimetype": "text/x-python",
   "name": "python",
   "nbconvert_exporter": "python",
   "pygments_lexer": "ipython3",
   "version": "3.11.3"
  }
 },
 "nbformat": 4,
 "nbformat_minor": 5
}
